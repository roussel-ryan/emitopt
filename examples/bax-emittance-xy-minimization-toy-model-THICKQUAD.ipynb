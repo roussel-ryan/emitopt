{
 "cells": [
  {
   "cell_type": "markdown",
   "id": "90ac8fe9",
   "metadata": {},
   "source": [
    "# Emittance minimization using Xopt with BAXGenerator running algorithm ScipyMinimizeEmittance\n",
    "In this notebook we demonstrate the use of Xopt to perform Bayesian Algorithm Execution (BAX) as a means of minimizing the emittance described by a simple optical beam size model. BAX is a generalization of Bayesian Optimization that seeks to acquire observations that provide our model with maximal information about our property of interest. In this example, our property of interest is the minimal emittance and its location in tuning-parameter-space. See https://arxiv.org/pdf/2209.04587.pdf for details."
   ]
  },
  {
   "cell_type": "markdown",
   "id": "7a2666c7",
   "metadata": {},
   "source": [
    "# Imports"
   ]
  },
  {
   "cell_type": "code",
   "execution_count": 1,
   "id": "0b2005f9",
   "metadata": {},
   "outputs": [],
   "source": [
    "# Ignore all warnings\n",
    "import warnings\n",
    "warnings.filterwarnings(\"ignore\")\n",
    "\n",
    "import sys\n",
    "# sys.path.append('C:\\\\Users\\\\Dylan\\\\SLAC') #parent directory containing emitopt module\n",
    "\n",
    "import matplotlib.pyplot as plt\n",
    "import os    \n",
    "os.environ['KMP_DUPLICATE_LIB_OK'] = 'True'\n",
    "\n",
    "import pandas as pd\n",
    "import torch\n",
    "\n",
    "from xopt import Xopt\n",
    "from xopt.vocs import VOCS\n",
    "from xopt.generators.bayesian.bax_generator import BaxGenerator\n",
    "\n",
    "from xopt.evaluator import Evaluator\n",
    "\n",
    "from emitopt.analysis import compute_emit_bmag\n",
    "from emitopt.sampling import draw_product_kernel_post_paths\n",
    "from emitopt.algorithms import ScipyMinimizeEmittanceXY\n",
    "\n",
    "import time\n",
    "import numpy as np\n",
    "import random"
   ]
  },
  {
   "cell_type": "markdown",
   "id": "d56d378d",
   "metadata": {},
   "source": [
    "# Use CUDA if available"
   ]
  },
  {
   "cell_type": "code",
   "execution_count": 2,
   "id": "ce9d65ee",
   "metadata": {},
   "outputs": [],
   "source": [
    "# if torch.cuda.is_available():\n",
    "if False:\n",
    "    torch.set_default_tensor_type('torch.cuda.DoubleTensor')\n",
    "    use_cuda = True\n",
    "else:\n",
    "    torch.set_default_tensor_type('torch.DoubleTensor')\n",
    "    use_cuda = False"
   ]
  },
  {
   "cell_type": "markdown",
   "id": "0c1f6014",
   "metadata": {},
   "source": [
    "# Notebook settings"
   ]
  },
  {
   "cell_type": "code",
   "execution_count": 3,
   "id": "e9323010",
   "metadata": {},
   "outputs": [],
   "source": [
    "ndim = 2 #number of input dimensions\n",
    "noise = False #whether to add noise to the ground-truth beam size function outputs\n",
    "thick_quad = True\n",
    "meas_dim = 1 #input dimension for measurement parameter\n",
    "n_obs_init = 100 #number of random initial observations for GP model\n",
    "n_samples = 10 #number of posterior samples for BAX\n",
    "n_iter = 1 #number of optimization steps for Xopt to take (after acquiring random initial data)\n",
    "rand_seed = 2\n",
    "\n",
    "#random seeds for reproducibility \n",
    "torch.manual_seed(rand_seed)\n",
    "np.random.seed(rand_seed) #only affects initial random observations through Xopt\n",
    "random.seed(rand_seed)"
   ]
  },
  {
   "cell_type": "markdown",
   "id": "87785524",
   "metadata": {},
   "source": [
    "# Build test function from single-quadrupole optical beam size model \n",
    "Here we define a simple ground-truth beam size function for our optimization problem, where we attempt to find the location in tuning parameter space with minimal emittance. Note that the function \"test_func\" used to evaluate the ground-truth beam size function takes a dictionary as input and returns a dictionary as the output."
   ]
  },
  {
   "cell_type": "code",
   "execution_count": 4,
   "id": "468de1ea",
   "metadata": {},
   "outputs": [],
   "source": [
    "from pyemittance.emittance_calc import EmitCalc\n",
    "from pyemittance.load_json_configs import load_configs\n",
    "from pyemittance.simulation import BeamSim\n",
    "\n",
    "CONFIG = load_configs('LCLS2_OTR0H04')\n",
    "CONFIG['beamline_info']\n",
    "\n",
    "q_len = CONFIG['beamline_info']['Lquad']\n",
    "rmat_x = torch.tensor(CONFIG['beamline_info']['rMatx']).reshape(2,2)\n",
    "rmat_y = torch.tensor(CONFIG['beamline_info']['rMaty']).reshape(2,2)"
   ]
  },
  {
   "cell_type": "code",
   "execution_count": 5,
   "id": "c052d304",
   "metadata": {},
   "outputs": [
    {
     "name": "stdout",
     "output_type": "stream",
     "text": [
      "Ground truth minimum emit: tensor(0.0904)\n"
     ]
    }
   ],
   "source": [
    "BUNCH_PARAMS0 = {\n",
    "    'total_charge': 50e-12,\n",
    "    'norm_emit_x': 1e-6,\n",
    "    'norm_emit_y': 2e-6,\n",
    "    'beta_x': 10,\n",
    "    'alpha_x': -1,\n",
    "    'beta_y': 11,\n",
    "    'alpha_y': -2,\n",
    "    'energy': 80e6,\n",
    "    'species':'electron'\n",
    "}\n",
    "sim = BeamSim(bunch_params=BUNCH_PARAMS0, beamline_info=CONFIG['beamline_info'])\n",
    "\n",
    "\n",
    "# define variables functions\n",
    "var_names = ['x' + str(i) for i in range(ndim)]\n",
    "meas_param = var_names[meas_dim]\n",
    "\n",
    "scale = 1.e7\n",
    "def measure_beamsize(input_dict):\n",
    "    x_tuning = torch.tensor([])\n",
    "    for key in input_dict.keys():\n",
    "        if key is not meas_param:\n",
    "            x_tuning = torch.cat((x_tuning, torch.tensor([input_dict[key]])))\n",
    "    rms_beamsizes0 = np.array(sim.beam_size_meas(input_dict[meas_param]))\n",
    "    detuning_scale = 1. + x_tuning.abs().sum().cpu()\n",
    "    xrms, yrms = detuning_scale * rms_beamsizes0\n",
    "    return {'xrms_sq': float(xrms)**2.*scale,\n",
    "            'yrms_sq': float(yrms)**2.*scale} # mean-square beam sizes in mm squared\n",
    "\n",
    "from emitopt.utils import get_quad_scale_factor\n",
    "scale_factor = get_quad_scale_factor(E=.08, q_len=q_len)\n",
    "# scale_factor = 1.\n",
    "q = torch.linspace(-3,3,11)\n",
    "bss = torch.tensor([np.array(sim.beam_size_meas(v))**2*scale for v in q.numpy()]).T\n",
    "k = scale_factor*q\n",
    "ks = torch.stack((k,-k))\n",
    "rmats = torch.stack((rmat_x, rmat_y))\n",
    "emit, bmag, sig, is_valid = compute_emit_bmag(ks, bss, q_len, rmats, get_bmag=False, thick=thick_quad)\n",
    "gt_emit_min = (emit[0]*emit[1]).sqrt()\n",
    "def ground_truth_geometric_mean_emittance(emit_min, x_tuning):\n",
    "    detuning_scale = 1. + x_tuning.abs().sum(dim=1)\n",
    "    emit = emit_min * detuning_scale**2\n",
    "    return emit\n",
    "\n",
    "print('Ground truth minimum emit:', gt_emit_min)"
   ]
  },
  {
   "cell_type": "markdown",
   "id": "25d2c09a",
   "metadata": {},
   "source": [
    "# Construct vocs"
   ]
  },
  {
   "cell_type": "code",
   "execution_count": 6,
   "id": "6dfbf20e",
   "metadata": {},
   "outputs": [
    {
     "name": "stdout",
     "output_type": "stream",
     "text": [
      "variable_names = ['x0', 'x1']\n",
      "meas_param = 'x1'\n",
      "domain =\n",
      " [[-1.5  0.5]\n",
      " [-3.   3. ]]\n"
     ]
    }
   ],
   "source": [
    "variables = {var_name: [-1.5,0.5] for var_name in var_names}\n",
    "variables[meas_param] = [-3,3] #overwrite bounds for measurement parameter to capture minimum of single-quadrupole optical model\n",
    "\n",
    "#construct vocs\n",
    "vocs = VOCS(\n",
    "    variables = variables,\n",
    "    observables = ['xrms_sq', 'yrms_sq']\n",
    ")\n",
    "\n",
    "print('variable_names =', vocs.variable_names)\n",
    "print('meas_param =', \"'\" + meas_param + \"'\")\n",
    "print('domain =\\n', vocs.bounds.T)"
   ]
  },
  {
   "cell_type": "markdown",
   "id": "e4651f47",
   "metadata": {},
   "source": [
    "# Prepare generator options.\n",
    "In this example, we use a specialty covariance module (Matern x Quadratic kernel) for our beam size model."
   ]
  },
  {
   "cell_type": "code",
   "execution_count": 7,
   "id": "02894212",
   "metadata": {},
   "outputs": [],
   "source": [
    "from gpytorch.kernels import MaternKernel, PolynomialKernel, ScaleKernel\n",
    "from gpytorch.priors.torch_priors import GammaPrior\n",
    "\n",
    "from xopt.generators.bayesian.models.standard import StandardModelConstructor\n",
    "from xopt.generators.bayesian.bax_generator import BaxGenerator\n",
    "from emitopt.algorithms import ScipyMinimizeEmittanceXY\n",
    "\n",
    "# prepare custom covariance module\n",
    "tuning_dims = list(range(vocs.n_variables))\n",
    "tuning_dims.remove(meas_dim)\n",
    "covar_module_x = (MaternKernel(ard_num_dims=len(tuning_dims), \n",
    "                              active_dims=tuning_dims, \n",
    "                              lengthscale_prior=None) * \n",
    "                              PolynomialKernel(power=2, active_dims=[meas_dim])\n",
    "                 )\n",
    "\n",
    "scaled_covar_module_x = ScaleKernel(covar_module_x)#, outputscale_prior=GammaPrior(2.0, 0.15))\n",
    "covar_module_y = (MaternKernel(ard_num_dims=len(tuning_dims), \n",
    "                              active_dims=tuning_dims, \n",
    "                              lengthscale_prior=None) * \n",
    "                              PolynomialKernel(power=2, active_dims=[meas_dim])\n",
    "                 )\n",
    "scaled_covar_module_y =  ScaleKernel(covar_module_y)#, outputscale_prior=GammaPrior(2.0, 0.15))\n",
    "\n",
    "# prepare options for Xopt generator\n",
    "covar_module_dict = {'xrms_sq': scaled_covar_module_x,\n",
    "                     'yrms_sq': scaled_covar_module_y}\n",
    "\n",
    "model_constructor = StandardModelConstructor(covar_modules=covar_module_dict, use_low_noise_prior=True)"
   ]
  },
  {
   "cell_type": "code",
   "execution_count": 8,
   "id": "724571ae",
   "metadata": {},
   "outputs": [],
   "source": [
    "from xopt.numerical_optimizer import LBFGSOptimizer\n",
    "numerical_optimizer = LBFGSOptimizer(\n",
    "                                    n_raw_samples=20,\n",
    "                                    n_restarts=10,\n",
    "                                    max_iter=50)"
   ]
  },
  {
   "cell_type": "markdown",
   "id": "bd586df8",
   "metadata": {},
   "source": [
    "# Construct generator, evaluator, Xopt objects"
   ]
  },
  {
   "cell_type": "code",
   "execution_count": 9,
   "id": "7623bc33",
   "metadata": {},
   "outputs": [
    {
     "name": "stdout",
     "output_type": "stream",
     "text": [
      "Verifying model name='standard' use_low_noise_prior=True covar_modules={'xrms_sq': ScaleKernel(\n",
      "  (base_kernel): ProductKernel(\n",
      "    (kernels): ModuleList(\n",
      "      (0): MaternKernel(\n",
      "        (raw_lengthscale_constraint): Positive()\n",
      "      )\n",
      "      (1): PolynomialKernel(\n",
      "        (raw_offset_constraint): Positive()\n",
      "      )\n",
      "    )\n",
      "  )\n",
      "  (raw_outputscale_constraint): Positive()\n",
      "), 'yrms_sq': ScaleKernel(\n",
      "  (base_kernel): ProductKernel(\n",
      "    (kernels): ModuleList(\n",
      "      (0): MaternKernel(\n",
      "        (raw_lengthscale_constraint): Positive()\n",
      "      )\n",
      "      (1): PolynomialKernel(\n",
      "        (raw_offset_constraint): Positive()\n",
      "      )\n",
      "    )\n",
      "  )\n",
      "  (raw_outputscale_constraint): Positive()\n",
      ")} mean_modules={} trainable_mean_keys=[]\n"
     ]
    }
   ],
   "source": [
    "#Prepare Algorithm\n",
    "algo_kwargs = {\n",
    "        'x_key': 'xrms_sq',\n",
    "        'y_key': 'yrms_sq',\n",
    "        'scale_factor': scale_factor,\n",
    "        'q_len': q_len,\n",
    "        'rmat_x': rmat_x,\n",
    "        'rmat_y': rmat_y,\n",
    "        'n_samples': n_samples,\n",
    "        'meas_dim': meas_dim,\n",
    "        'n_steps_measurement_param': 11,\n",
    "#         'scipy_options': None,\n",
    "        'thick_quad': thick_quad,\n",
    "}\n",
    "algo = ScipyMinimizeEmittanceXY(**algo_kwargs)\n",
    "\n",
    "#construct BAX generator\n",
    "generator = BaxGenerator(vocs=vocs, \n",
    "                         gp_constructor=model_constructor, \n",
    "                         numerical_optimizer=numerical_optimizer,\n",
    "                         algorithm=algo, \n",
    "                         use_cuda=use_cuda)\n",
    "\n",
    "#construct evaluator\n",
    "evaluator = Evaluator(function=measure_beamsize)\n",
    "\n",
    "#construct Xopt optimizer\n",
    "optimizer = Xopt(evaluator=evaluator, generator=generator, vocs=vocs)"
   ]
  },
  {
   "cell_type": "markdown",
   "id": "fae84fc5",
   "metadata": {},
   "source": [
    "# Optimize"
   ]
  },
  {
   "cell_type": "code",
   "execution_count": 10,
   "id": "3553f6f5",
   "metadata": {},
   "outputs": [
    {
     "data": {
      "text/html": [
       "<div>\n",
       "<style scoped>\n",
       "    .dataframe tbody tr th:only-of-type {\n",
       "        vertical-align: middle;\n",
       "    }\n",
       "\n",
       "    .dataframe tbody tr th {\n",
       "        vertical-align: top;\n",
       "    }\n",
       "\n",
       "    .dataframe thead th {\n",
       "        text-align: right;\n",
       "    }\n",
       "</style>\n",
       "<table border=\"1\" class=\"dataframe\">\n",
       "  <thead>\n",
       "    <tr style=\"text-align: right;\">\n",
       "      <th></th>\n",
       "      <th>x0</th>\n",
       "      <th>x1</th>\n",
       "      <th>xrms_sq</th>\n",
       "      <th>yrms_sq</th>\n",
       "      <th>xopt_runtime</th>\n",
       "      <th>xopt_error</th>\n",
       "    </tr>\n",
       "  </thead>\n",
       "  <tbody>\n",
       "    <tr>\n",
       "      <th>0</th>\n",
       "      <td>-0.371990</td>\n",
       "      <td>-1.668049</td>\n",
       "      <td>8.663775</td>\n",
       "      <td>0.109785</td>\n",
       "      <td>0.006730</td>\n",
       "      <td>False</td>\n",
       "    </tr>\n",
       "    <tr>\n",
       "      <th>1</th>\n",
       "      <td>0.448148</td>\n",
       "      <td>2.196275</td>\n",
       "      <td>0.563369</td>\n",
       "      <td>32.963226</td>\n",
       "      <td>0.000275</td>\n",
       "      <td>False</td>\n",
       "    </tr>\n",
       "    <tr>\n",
       "      <th>2</th>\n",
       "      <td>-0.599325</td>\n",
       "      <td>-2.213500</td>\n",
       "      <td>16.336046</td>\n",
       "      <td>0.850689</td>\n",
       "      <td>0.000184</td>\n",
       "      <td>False</td>\n",
       "    </tr>\n",
       "    <tr>\n",
       "      <th>3</th>\n",
       "      <td>-0.370645</td>\n",
       "      <td>-1.492667</td>\n",
       "      <td>7.691256</td>\n",
       "      <td>0.175661</td>\n",
       "      <td>0.000177</td>\n",
       "      <td>False</td>\n",
       "    </tr>\n",
       "    <tr>\n",
       "      <th>4</th>\n",
       "      <td>-0.340736</td>\n",
       "      <td>-1.791514</td>\n",
       "      <td>8.951084</td>\n",
       "      <td>0.125466</td>\n",
       "      <td>0.000176</td>\n",
       "      <td>False</td>\n",
       "    </tr>\n",
       "    <tr>\n",
       "      <th>...</th>\n",
       "      <td>...</td>\n",
       "      <td>...</td>\n",
       "      <td>...</td>\n",
       "      <td>...</td>\n",
       "      <td>...</td>\n",
       "      <td>...</td>\n",
       "    </tr>\n",
       "    <tr>\n",
       "      <th>95</th>\n",
       "      <td>-0.333507</td>\n",
       "      <td>0.669995</td>\n",
       "      <td>0.560142</td>\n",
       "      <td>10.109767</td>\n",
       "      <td>0.000172</td>\n",
       "      <td>False</td>\n",
       "    </tr>\n",
       "    <tr>\n",
       "      <th>96</th>\n",
       "      <td>-0.787684</td>\n",
       "      <td>-2.555410</td>\n",
       "      <td>24.490695</td>\n",
       "      <td>2.542924</td>\n",
       "      <td>0.000216</td>\n",
       "      <td>False</td>\n",
       "    </tr>\n",
       "    <tr>\n",
       "      <th>97</th>\n",
       "      <td>-0.822963</td>\n",
       "      <td>-0.421645</td>\n",
       "      <td>5.505337</td>\n",
       "      <td>5.474814</td>\n",
       "      <td>0.000300</td>\n",
       "      <td>False</td>\n",
       "    </tr>\n",
       "    <tr>\n",
       "      <th>98</th>\n",
       "      <td>0.159046</td>\n",
       "      <td>-2.500288</td>\n",
       "      <td>10.007140</td>\n",
       "      <td>0.948518</td>\n",
       "      <td>0.000280</td>\n",
       "      <td>False</td>\n",
       "    </tr>\n",
       "    <tr>\n",
       "      <th>99</th>\n",
       "      <td>-1.263304</td>\n",
       "      <td>-1.213585</td>\n",
       "      <td>17.154901</td>\n",
       "      <td>1.409590</td>\n",
       "      <td>0.000205</td>\n",
       "      <td>False</td>\n",
       "    </tr>\n",
       "  </tbody>\n",
       "</table>\n",
       "<p>100 rows × 6 columns</p>\n",
       "</div>"
      ],
      "text/plain": [
       "          x0        x1    xrms_sq    yrms_sq  xopt_runtime  xopt_error\n",
       "0  -0.371990 -1.668049   8.663775   0.109785      0.006730       False\n",
       "1   0.448148  2.196275   0.563369  32.963226      0.000275       False\n",
       "2  -0.599325 -2.213500  16.336046   0.850689      0.000184       False\n",
       "3  -0.370645 -1.492667   7.691256   0.175661      0.000177       False\n",
       "4  -0.340736 -1.791514   8.951084   0.125466      0.000176       False\n",
       "..       ...       ...        ...        ...           ...         ...\n",
       "95 -0.333507  0.669995   0.560142  10.109767      0.000172       False\n",
       "96 -0.787684 -2.555410  24.490695   2.542924      0.000216       False\n",
       "97 -0.822963 -0.421645   5.505337   5.474814      0.000300       False\n",
       "98  0.159046 -2.500288  10.007140   0.948518      0.000280       False\n",
       "99 -1.263304 -1.213585  17.154901   1.409590      0.000205       False\n",
       "\n",
       "[100 rows x 6 columns]"
      ]
     },
     "execution_count": 10,
     "metadata": {},
     "output_type": "execute_result"
    }
   ],
   "source": [
    "# call X.random_evaluate() to generate random initial points and evaluate on test_func\n",
    "optimizer.random_evaluate(n_obs_init)"
   ]
  },
  {
   "cell_type": "code",
   "execution_count": 11,
   "id": "79bf85b6",
   "metadata": {},
   "outputs": [],
   "source": [
    "# torch.tensor(optimizer.data[vocs.variable_names].iloc[-2].to_numpy().reshape(1,-1))"
   ]
  },
  {
   "cell_type": "code",
   "execution_count": 12,
   "id": "1af84ab9",
   "metadata": {},
   "outputs": [],
   "source": [
    "results = {}"
   ]
  },
  {
   "cell_type": "code",
   "execution_count": 13,
   "id": "d8a54961",
   "metadata": {
    "scrolled": true
   },
   "outputs": [
    {
     "name": "stdout",
     "output_type": "stream",
     "text": [
      "Iteration: 1 / 1\n",
      "This iteration took: 4.328711032867432 seconds.\n",
      "\n"
     ]
    }
   ],
   "source": [
    "# plt.hist(emits_at_target_valid.flatten().cpu(), density=True)\n",
    "# plt.xlabel('Predicted Optimal Emittance')\n",
    "# plt.ylabel('Probability Density')\n",
    "# plt.show()\n",
    "# print('sample validity rate:', svr)\n",
    "\n",
    "for i in range(1, n_iter+1):\n",
    "\n",
    "    print('Iteration:', i, '/', n_iter)\n",
    "\n",
    "    start = time.time()\n",
    "\n",
    "    # call X.step() to generate a random initial point and evaluate on test_func\n",
    "    optimizer.step()    \n",
    "\n",
    "    \n",
    "    #extract GP models\n",
    "    model = optimizer.generator.train_model()\n",
    "    bax_model_ids = [optimizer.generator.vocs.output_names.index(name)\n",
    "                            for name in optimizer.generator.algorithm.model_names_ordered]\n",
    "    bax_model = model.subset_output(bax_model_ids)\n",
    "    beam_size_model_x = bax_model.models[0]\n",
    "    beam_size_model_y = bax_model.models[1]\n",
    "    \n",
    "    #extract and store algorithm results for this iteration\n",
    "    results[i] = optimizer.generator.algorithm_results\n",
    "#     beam_size_models[i] = beam_size_model\n",
    "    \n",
    "    #get mean-predicted optimal tuning config and eval predicted emits at this location in tuning parameter space\n",
    "    algo = optimizer.generator.algorithm\n",
    "#     X_tuned, emits_at_target_valid, svr = algo.mean_output(beam_size_model,\n",
    "#                                                          torch.tensor(vocs.bounds),\n",
    "#                                                          num_restarts=10)\n",
    "    \n",
    "    end = time.time()\n",
    "    print('This iteration took:', end-start, 'seconds.\\n')\n",
    "\n",
    "#     if i % 5 == 0:\n",
    "#         plt.hist(emits_at_target_valid.flatten().cpu(), density=True)\n",
    "#         plt.xlabel('Predicted Optimal Emittance')\n",
    "#         plt.ylabel('Probability Density')\n",
    "#         plt.show()\n",
    "#         print('sample validity rate:', svr)"
   ]
  },
  {
   "cell_type": "code",
   "execution_count": 14,
   "id": "c8ffbf95",
   "metadata": {
    "scrolled": false
   },
   "outputs": [
    {
     "ename": "TypeError",
     "evalue": "'AxesSubplot' object is not iterable",
     "output_type": "error",
     "traceback": [
      "\u001b[1;31m---------------------------------------------------------------------------\u001b[0m",
      "\u001b[1;31mTypeError\u001b[0m                                 Traceback (most recent call last)",
      "Cell \u001b[1;32mIn[14], line 3\u001b[0m\n\u001b[0;32m      1\u001b[0m \u001b[38;5;28;01mfrom\u001b[39;00m \u001b[38;5;21;01memitopt\u001b[39;00m\u001b[38;5;21;01m.\u001b[39;00m\u001b[38;5;21;01mplot_utils\u001b[39;00m \u001b[38;5;28;01mimport\u001b[39;00m plot_sample_optima_convergence_inputs\n\u001b[0;32m      2\u001b[0m fig, axs \u001b[38;5;241m=\u001b[39m plot_sample_optima_convergence_inputs(results, show_valid_only\u001b[38;5;241m=\u001b[39m\u001b[38;5;28;01mFalse\u001b[39;00m)\n\u001b[1;32m----> 3\u001b[0m \u001b[38;5;28;01mfor\u001b[39;00m ax \u001b[38;5;129;01min\u001b[39;00m axs:\n\u001b[0;32m      4\u001b[0m     ax\u001b[38;5;241m.\u001b[39maxhline(\u001b[38;5;241m0\u001b[39m, ls\u001b[38;5;241m=\u001b[39m\u001b[38;5;124m'\u001b[39m\u001b[38;5;124m--\u001b[39m\u001b[38;5;124m'\u001b[39m, c\u001b[38;5;241m=\u001b[39m\u001b[38;5;124m'\u001b[39m\u001b[38;5;124mk\u001b[39m\u001b[38;5;124m'\u001b[39m)\n",
      "\u001b[1;31mTypeError\u001b[0m: 'AxesSubplot' object is not iterable"
     ]
    },
    {
     "data": {
      "image/png": "[encoded data removed]",
      "text/plain": [
       "<Figure size 800x300 with 1 Axes>"
      ]
     },
     "metadata": {},
     "output_type": "display_data"
    }
   ],
   "source": [
    "from emitopt.plot_utils import plot_sample_optima_convergence_inputs\n",
    "fig, axs = plot_sample_optima_convergence_inputs(results, show_valid_only=False)\n",
    "for ax in axs:\n",
    "    ax.axhline(0, ls='--', c='k')"
   ]
  },
  {
   "cell_type": "code",
   "execution_count": null,
   "id": "6c512cfc",
   "metadata": {},
   "outputs": [],
   "source": [
    "from emitopt.plot_utils import plot_sample_optima_convergence_emits\n",
    "fig, ax = plot_sample_optima_convergence_emits(results)\n",
    "ax.axhline(gt_emit_min, ls='--', c='k', label='ground truth')"
   ]
  },
  {
   "cell_type": "code",
   "execution_count": null,
   "id": "b5790aa5",
   "metadata": {},
   "outputs": [],
   "source": [
    "from emitopt.plot_utils import plot_pathwise_emittance_vs_tuning\n",
    "plot_pathwise_emittance_vs_tuning(optimizer, torch.tensor([[0.]]))"
   ]
  },
  {
   "cell_type": "markdown",
   "id": "1ca7907f",
   "metadata": {},
   "source": [
    "# Minimize sample emittance functions produced by current GP beam size model and inspect results"
   ]
  },
  {
   "cell_type": "code",
   "execution_count": null,
   "id": "25d1e9e7",
   "metadata": {},
   "outputs": [],
   "source": [
    "from emitopt.plot_utils import plot_virtual_emittance_vs_tuning\n",
    "fig, axs = plot_virtual_emittance_vs_tuning(optimizer, torch.tensor([[0.]]))"
   ]
  },
  {
   "cell_type": "code",
   "execution_count": null,
   "id": "c1609dc6",
   "metadata": {},
   "outputs": [],
   "source": [
    "from emitopt.plot_utils import plot_virtual_measurement_scan\n",
    "plot_virtual_measurement_scan(optimizer, torch.tensor([[0.]]))"
   ]
  },
  {
   "cell_type": "code",
   "execution_count": null,
   "id": "17f09698",
   "metadata": {},
   "outputs": [],
   "source": [
    "from emitopt.plot_utils import plot_model_cross_section\n",
    "scan_dict = {'x0':[-3.0, 1.0], 'x1': [-40.0, 40.0], 'x2': 1., 'x3': 0.}\n",
    "plot_model_cross_section(beam_size_model, vocs, scan_dict, nx=50, ny=15)"
   ]
  },
  {
   "cell_type": "code",
   "execution_count": null,
   "id": "f7c056a2",
   "metadata": {},
   "outputs": [],
   "source": [
    "from emitopt.plot_utils import plot_acq_func_opt_results\n",
    "plot_acq_func_opt_results(optimizer)"
   ]
  },
  {
   "cell_type": "code",
   "execution_count": null,
   "id": "a1b7c8e4",
   "metadata": {},
   "outputs": [],
   "source": [
    "x_tuning = torch.tensor([[0.]])\n",
    "tkwargs=None\n",
    "meas_dim = optimizer.generator.algorithm.meas_dim\n",
    "n_steps_measurement_param = optimizer.generator.algorithm.n_steps_measurement_param\n",
    "x_meas = torch.linspace(*optimizer.vocs.bounds.T[meas_dim], n_steps_measurement_param)\n",
    "x_meas_scan = optimizer.generator.algorithm.get_meas_scan_inputs(x_tuning=x_tuning, \n",
    "                                                                 bounds=optimizer.generator._get_optimization_bounds(), \n",
    "                                                                 tkwargs=tkwargs)\n",
    "\n",
    "# get the beam size squared models in x and y\n",
    "model = optimizer.generator.train_model()\n",
    "bax_model_ids = [optimizer.generator.vocs.output_names.index(name)\n",
    "                        for name in optimizer.generator.algorithm.model_names_ordered]\n",
    "bax_model = model.subset_output(bax_model_ids)\n",
    "sample_funcs_list = optimizer.generator.algorithm_results['sample_funcs_list']\n",
    "\n",
    "if len(bax_model_ids)==2:\n",
    "    labels = ['$\\sigma_{x,rms}^2$', '$\\sigma_{y,rms}^2$']\n",
    "else:\n",
    "    labels = ['$\\sigma_{rms}^2$']\n",
    "\n",
    "fig, ax = plt.subplots(1)\n",
    "\n",
    "sid = 2\n",
    "for bss_model, label in zip(sample_funcs_list, labels):\n",
    "    bss = bss_model(x_meas_scan)\n",
    "    ax.plot(x_meas, bss.detach()[sid], label=label)\n",
    "    print(x_meas)\n",
    "    print(bss[sid])\n",
    "ax.set_title('Mean-Square Beam Size GP Model Output')\n",
    "#     plt.xlabel('Measurement Quad Focusing Strength ($[k]=m^{-2}$)')\n",
    "ax.set_xlabel('Measurement Quad Setting (Machine Units)')\n",
    "ax.set_ylabel('Mean-Square Beam Size (mm)')\n",
    "ax.legend()"
   ]
  },
  {
   "cell_type": "code",
   "execution_count": null,
   "id": "a706596e",
   "metadata": {},
   "outputs": [],
   "source": []
  }
 ],
 "metadata": {
  "kernelspec": {
   "display_name": "Python 3 (ipykernel)",
   "language": "python",
   "name": "python3"
  },
  "language_info": {
   "codemirror_mode": {
    "name": "ipython",
    "version": 3
   },
   "file_extension": ".py",
   "mimetype": "text/x-python",
   "name": "python",
   "nbconvert_exporter": "python",
   "pygments_lexer": "ipython3",
   "version": "3.9.16"
  }
 },
 "nbformat": 4,
 "nbformat_minor": 5
}
